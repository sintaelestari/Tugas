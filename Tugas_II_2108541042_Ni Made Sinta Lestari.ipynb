{
 "cells": [
  {
   "cell_type": "markdown",
   "id": "1bd99cb2",
   "metadata": {},
   "source": [
    "## 5.12 List "
   ]
  },
  {
   "cell_type": "code",
   "execution_count": 1,
   "id": "666bdd84",
   "metadata": {},
   "outputs": [
    {
     "name": "stdout",
     "output_type": "stream",
     "text": [
      "['alpukat', 'pisang', 'apel', 'srikaya']\n"
     ]
    }
   ],
   "source": [
    "buah = ['alpukat', 'pisang', 'apel', 'srikaya']\n",
    "print(buah)"
   ]
  },
  {
   "cell_type": "code",
   "execution_count": 2,
   "id": "5de027bb",
   "metadata": {},
   "outputs": [
    {
     "name": "stdout",
     "output_type": "stream",
     "text": [
      "alpukat\n"
     ]
    }
   ],
   "source": [
    "print(buah[0])"
   ]
  },
  {
   "cell_type": "code",
   "execution_count": 3,
   "id": "02749980",
   "metadata": {},
   "outputs": [
    {
     "name": "stdout",
     "output_type": "stream",
     "text": [
      "srikaya\n"
     ]
    }
   ],
   "source": [
    "print(buah[-1])"
   ]
  },
  {
   "cell_type": "code",
   "execution_count": 4,
   "id": "3a3c95cb",
   "metadata": {},
   "outputs": [
    {
     "name": "stdout",
     "output_type": "stream",
     "text": [
      "['salak', 'pisang', 'apel', 'srikaya']\n"
     ]
    }
   ],
   "source": [
    "buah[0] = 'salak'\n",
    "print(buah)"
   ]
  },
  {
   "cell_type": "code",
   "execution_count": 5,
   "id": "17cbfda9",
   "metadata": {},
   "outputs": [
    {
     "name": "stdout",
     "output_type": "stream",
     "text": [
      "['salak', 'pisang', 'apel']\n"
     ]
    }
   ],
   "source": [
    "print(buah[0:3])"
   ]
  },
  {
   "cell_type": "code",
   "execution_count": 6,
   "id": "0a315e11",
   "metadata": {},
   "outputs": [
    {
     "name": "stdout",
     "output_type": "stream",
     "text": [
      "['salak', 'pisang', 'apel', 'srikaya']\n"
     ]
    }
   ],
   "source": [
    "#tidak merubah list\n",
    "print(buah)"
   ]
  },
  {
   "cell_type": "markdown",
   "id": "77b942a5",
   "metadata": {},
   "source": [
    "## 5.13 Metoda List"
   ]
  },
  {
   "cell_type": "code",
   "execution_count": 7,
   "id": "574658bb",
   "metadata": {},
   "outputs": [
    {
     "name": "stdout",
     "output_type": "stream",
     "text": [
      "['Sinta', 'Taehyung', 'Yoongi', 'Jimin']\n"
     ]
    }
   ],
   "source": [
    "nama = ['Sinta', 'Taehyung', 'Yoongi']\n",
    "nama.append('Jimin')\n",
    "print(nama)"
   ]
  },
  {
   "cell_type": "code",
   "execution_count": 8,
   "id": "53021873",
   "metadata": {},
   "outputs": [
    {
     "name": "stdout",
     "output_type": "stream",
     "text": [
      "['Jungkook', 'Sinta', 'Taehyung', 'Yoongi', 'Jimin']\n"
     ]
    }
   ],
   "source": [
    "nama.insert(0,'Jungkook')\n",
    "print(nama)"
   ]
  },
  {
   "cell_type": "code",
   "execution_count": 9,
   "id": "bafe62db",
   "metadata": {},
   "outputs": [
    {
     "name": "stdout",
     "output_type": "stream",
     "text": [
      "['Jungkook', 'Sinta', 'Taehyung', 'Yoongi']\n"
     ]
    }
   ],
   "source": [
    "nama.remove('Jimin')\n",
    "print(nama)"
   ]
  },
  {
   "cell_type": "code",
   "execution_count": 10,
   "id": "8dfb4e05",
   "metadata": {},
   "outputs": [
    {
     "name": "stdout",
     "output_type": "stream",
     "text": [
      "False\n",
      "True\n",
      "4\n"
     ]
    }
   ],
   "source": [
    "print('Jimin' in nama)\n",
    "print('Sinta' in nama)\n",
    "print(len(nama))"
   ]
  },
  {
   "cell_type": "markdown",
   "id": "165d9415",
   "metadata": {},
   "source": [
    "## 5.14 For Loop"
   ]
  },
  {
   "cell_type": "code",
   "execution_count": 11,
   "id": "aeec452e",
   "metadata": {},
   "outputs": [
    {
     "name": "stdout",
     "output_type": "stream",
     "text": [
      "apel\n",
      "jeruk\n",
      "mangga\n",
      "pisang\n"
     ]
    }
   ],
   "source": [
    "buah = ['apel', 'jeruk', 'mangga', 'pisang']\n",
    "for jenis in buah:\n",
    "    print(jenis)"
   ]
  },
  {
   "cell_type": "code",
   "execution_count": 12,
   "id": "5266a51b",
   "metadata": {},
   "outputs": [
    {
     "name": "stdout",
     "output_type": "stream",
     "text": [
      "apel\n",
      "jeruk\n",
      "mangga\n",
      "pisang\n"
     ]
    }
   ],
   "source": [
    "p = 0\n",
    "while  p < len(buah):\n",
    "    print(buah[p])\n",
    "    p+=1"
   ]
  },
  {
   "cell_type": "markdown",
   "id": "c1a35286",
   "metadata": {},
   "source": [
    "## 5.15 Fungsi range"
   ]
  },
  {
   "cell_type": "code",
   "execution_count": 13,
   "id": "5c2684fd",
   "metadata": {},
   "outputs": [
    {
     "name": "stdout",
     "output_type": "stream",
     "text": [
      "range(0, 8)\n"
     ]
    }
   ],
   "source": [
    "angka = range(8)\n",
    "print(angka)"
   ]
  },
  {
   "cell_type": "code",
   "execution_count": 14,
   "id": "35ab9ddb",
   "metadata": {},
   "outputs": [
    {
     "name": "stdout",
     "output_type": "stream",
     "text": [
      "0\n",
      "1\n",
      "2\n",
      "3\n",
      "4\n",
      "5\n",
      "6\n",
      "7\n"
     ]
    }
   ],
   "source": [
    "for isi in angka:\n",
    "    print(isi)"
   ]
  },
  {
   "cell_type": "code",
   "execution_count": 15,
   "id": "f091cfad",
   "metadata": {},
   "outputs": [
    {
     "name": "stdout",
     "output_type": "stream",
     "text": [
      "7\n",
      "8\n",
      "9\n"
     ]
    }
   ],
   "source": [
    "for isi in range(7,10):\n",
    "    print(isi)"
   ]
  },
  {
   "cell_type": "code",
   "execution_count": 16,
   "id": "a4f208d0",
   "metadata": {},
   "outputs": [
    {
     "name": "stdout",
     "output_type": "stream",
     "text": [
      "0\n",
      "2\n",
      "4\n",
      "6\n"
     ]
    }
   ],
   "source": [
    "for isi in range(0,8,2):\n",
    "    print(isi)"
   ]
  },
  {
   "cell_type": "markdown",
   "id": "4ed9a272",
   "metadata": {},
   "source": [
    "### Latihan\n",
    "### 1. Buatlah program untuk mencari nilai terbesar dalam suatu list"
   ]
  },
  {
   "cell_type": "code",
   "execution_count": 17,
   "id": "93f5ef22",
   "metadata": {},
   "outputs": [
    {
     "name": "stdout",
     "output_type": "stream",
     "text": [
      "8\n"
     ]
    }
   ],
   "source": [
    "data = [1,2,3,4,5,6,7,8,7,6,5,4,3,2,1]\n",
    "terbesar = data[0]\n",
    "for i in range(len(data)):\n",
    "    if data[i] > terbesar:\n",
    "        terbesar = data[i]\n",
    "print(terbesar)        "
   ]
  },
  {
   "cell_type": "code",
   "execution_count": 18,
   "id": "a6ce06e7",
   "metadata": {},
   "outputs": [
    {
     "name": "stdout",
     "output_type": "stream",
     "text": [
      "8\n"
     ]
    }
   ],
   "source": [
    "data = [1,2,3,4,5,6,7,8,7,6,5,4,3,2,1]\n",
    "terbesar = data[0]\n",
    "for angka in data:\n",
    "    if angka > terbesar:\n",
    "        terbesar = angka\n",
    "print(terbesar)        "
   ]
  },
  {
   "cell_type": "markdown",
   "id": "483beaf4",
   "metadata": {},
   "source": [
    "### 2. Buatlah program untuk membuat anggota list menjadi unik dengan kata lain tidak ada anggota list yang kembar"
   ]
  },
  {
   "cell_type": "code",
   "execution_count": 19,
   "id": "17ea0b4e",
   "metadata": {},
   "outputs": [
    {
     "name": "stdout",
     "output_type": "stream",
     "text": [
      "[1, 2, 3, 4, 5, 6, 8, 9, 7]\n"
     ]
    }
   ],
   "source": [
    "angka = [1,2,3,4,5,6,4,5,8,9,3,4,7,2]\n",
    "angka_unik = []\n",
    "for anggota in angka:\n",
    "    if anggota not in angka_unik:\n",
    "        angka_unik.append(anggota)\n",
    "print(angka_unik)        "
   ]
  },
  {
   "cell_type": "markdown",
   "id": "9524ec22",
   "metadata": {},
   "source": [
    "## 5.16 List 2 Dimensi"
   ]
  },
  {
   "cell_type": "code",
   "execution_count": 69,
   "id": "d0745b63",
   "metadata": {},
   "outputs": [
    {
     "name": "stdout",
     "output_type": "stream",
     "text": [
      "[[1, 2, 3, 4], [5, 6, 7, 8], [9, 10, 11, 12], [13, 14, 15, 16]]\n"
     ]
    }
   ],
   "source": [
    "matriks = [\n",
    "    [1,2,3,4,],\n",
    "    [5,6,7,8],\n",
    "    [9,10,11,12],\n",
    "    [13,14,15,16]\n",
    "]\n",
    "print(matriks)"
   ]
  },
  {
   "cell_type": "code",
   "execution_count": 70,
   "id": "2aa94b03",
   "metadata": {},
   "outputs": [
    {
     "data": {
      "text/plain": [
       "[5, 6, 7, 8]"
      ]
     },
     "execution_count": 70,
     "metadata": {},
     "output_type": "execute_result"
    }
   ],
   "source": [
    "matriks[1]"
   ]
  },
  {
   "cell_type": "code",
   "execution_count": 71,
   "id": "b42830ac",
   "metadata": {},
   "outputs": [
    {
     "data": {
      "text/plain": [
       "8"
      ]
     },
     "execution_count": 71,
     "metadata": {},
     "output_type": "execute_result"
    }
   ],
   "source": [
    "matriks[1][3]"
   ]
  },
  {
   "cell_type": "code",
   "execution_count": 72,
   "id": "0334963f",
   "metadata": {},
   "outputs": [
    {
     "name": "stdout",
     "output_type": "stream",
     "text": [
      "100\n"
     ]
    }
   ],
   "source": [
    "matriks[1][3]=100\n",
    "print(matriks[1][3])"
   ]
  },
  {
   "cell_type": "code",
   "execution_count": 73,
   "id": "f4ac6ec2",
   "metadata": {},
   "outputs": [
    {
     "name": "stdout",
     "output_type": "stream",
     "text": [
      "[1, 2, 3, 4]\n",
      "1\n",
      "2\n",
      "3\n",
      "4\n",
      "[5, 6, 7, 100]\n",
      "5\n",
      "6\n",
      "7\n",
      "100\n",
      "[9, 10, 11, 12]\n",
      "9\n",
      "10\n",
      "11\n",
      "12\n",
      "[13, 14, 15, 16]\n",
      "13\n",
      "14\n",
      "15\n",
      "16\n"
     ]
    }
   ],
   "source": [
    "for baris in matriks:\n",
    "    print(baris)\n",
    "    for kolom in baris:\n",
    "        print(kolom)"
   ]
  },
  {
   "cell_type": "code",
   "execution_count": 74,
   "id": "171990b0",
   "metadata": {},
   "outputs": [
    {
     "data": {
      "text/plain": [
       "[[1, 2, 3, 4], [5, 6, 7, 100], [9, 10, 11, 12], [13, 14, 15, 16]]"
      ]
     },
     "execution_count": 74,
     "metadata": {},
     "output_type": "execute_result"
    }
   ],
   "source": [
    "matriks"
   ]
  },
  {
   "cell_type": "markdown",
   "id": "6de6359f",
   "metadata": {},
   "source": [
    "## 5.17 Tuples"
   ]
  },
  {
   "cell_type": "code",
   "execution_count": 3,
   "id": "12a09a26",
   "metadata": {},
   "outputs": [],
   "source": [
    "angka = (0,1,2,3,4,5,6,7)"
   ]
  },
  {
   "cell_type": "code",
   "execution_count": 9,
   "id": "b61bca04",
   "metadata": {},
   "outputs": [
    {
     "name": "stdout",
     "output_type": "stream",
     "text": [
      "0\n",
      "(0, 1, 2, 3, 4)\n"
     ]
    }
   ],
   "source": [
    "print(angka[0])\n",
    "print(angka[0:5])"
   ]
  },
  {
   "cell_type": "code",
   "execution_count": 5,
   "id": "60daf139",
   "metadata": {},
   "outputs": [
    {
     "name": "stdout",
     "output_type": "stream",
     "text": [
      "0\n",
      "1\n",
      "2\n"
     ]
    }
   ],
   "source": [
    "for isi in angka[0:3]:\n",
    "    print(isi)"
   ]
  },
  {
   "cell_type": "code",
   "execution_count": null,
   "id": "eb6ed74f",
   "metadata": {},
   "outputs": [],
   "source": [
    "angka[0] = 10"
   ]
  },
  {
   "cell_type": "code",
   "execution_count": null,
   "id": "413728bb",
   "metadata": {},
   "outputs": [],
   "source": [
    "angka.append(10)"
   ]
  },
  {
   "cell_type": "code",
   "execution_count": null,
   "id": "641e10fe",
   "metadata": {},
   "outputs": [],
   "source": [
    "angka.remove(4)"
   ]
  },
  {
   "cell_type": "code",
   "execution_count": 10,
   "id": "6392d15d",
   "metadata": {},
   "outputs": [
    {
     "data": {
      "text/plain": [
       "1"
      ]
     },
     "execution_count": 10,
     "metadata": {},
     "output_type": "execute_result"
    }
   ],
   "source": [
    "angka.count(1)"
   ]
  },
  {
   "cell_type": "code",
   "execution_count": 11,
   "id": "87ef92c8",
   "metadata": {},
   "outputs": [
    {
     "data": {
      "text/plain": [
       "3"
      ]
     },
     "execution_count": 11,
     "metadata": {},
     "output_type": "execute_result"
    }
   ],
   "source": [
    "angka.index(3)"
   ]
  },
  {
   "cell_type": "markdown",
   "id": "063913ad",
   "metadata": {},
   "source": [
    "## 5.18 Dictionaries"
   ]
  },
  {
   "cell_type": "code",
   "execution_count": 41,
   "id": "ab794c74",
   "metadata": {},
   "outputs": [],
   "source": [
    "data_orang = {\n",
    "    \"nama lengkap\" : \"Ni Made Sinta Lestari\",\n",
    "    \"usia\" : 19,\n",
    "    \"apakah_single\" : False\n",
    "}"
   ]
  },
  {
   "cell_type": "code",
   "execution_count": 42,
   "id": "82c3155b",
   "metadata": {},
   "outputs": [
    {
     "name": "stdout",
     "output_type": "stream",
     "text": [
      "Ni Made Sinta Lestari\n"
     ]
    }
   ],
   "source": [
    "print(data_orang['nama lengkap'])"
   ]
  },
  {
   "cell_type": "code",
   "execution_count": null,
   "id": "5404392b",
   "metadata": {},
   "outputs": [],
   "source": [
    "print(data_orang['Nama Lengkap'])"
   ]
  },
  {
   "cell_type": "code",
   "execution_count": 44,
   "id": "755ea74d",
   "metadata": {},
   "outputs": [
    {
     "name": "stdout",
     "output_type": "stream",
     "text": [
      "None\n"
     ]
    }
   ],
   "source": [
    "print(data_orang.get('tanggal_lahir'))"
   ]
  },
  {
   "cell_type": "code",
   "execution_count": 45,
   "id": "1b63265c",
   "metadata": {},
   "outputs": [
    {
     "name": "stdout",
     "output_type": "stream",
     "text": [
      "07-04-2003\n"
     ]
    }
   ],
   "source": [
    "print(data_orang.get('tanggal_lahir', '07-04-2003'))"
   ]
  },
  {
   "cell_type": "markdown",
   "id": "0c0e7983",
   "metadata": {},
   "source": [
    "### Latihan : Buatlah program untuk merubah nomor HP yang tadinya berupa angka menjadi sebutan bilangan tersebut"
   ]
  },
  {
   "cell_type": "code",
   "execution_count": 46,
   "id": "d3f78e91",
   "metadata": {},
   "outputs": [],
   "source": [
    "angka = {\n",
    "    \"0\" : \"nol\",\n",
    "    \"1\" : \"satu\",\n",
    "    \"2\" : \"dua\",\n",
    "    \"3\" : \"tiga\",\n",
    "    \"4\" : \"empat\",\n",
    "    \"5\" : \"lima\",\n",
    "    \"6\" : \"enam\",\n",
    "    \"7\" : \"tujuh\",\n",
    "    \"8\" : \"delapan\",\n",
    "    \"9\" : \"sembilan\"\n",
    "}"
   ]
  },
  {
   "cell_type": "code",
   "execution_count": 47,
   "id": "fcd664c9",
   "metadata": {},
   "outputs": [
    {
     "name": "stdout",
     "output_type": "stream",
     "text": [
      "Nomor HP anda :  087841271245\n",
      "nol delapan tujuh delapan empat satu dua tujuh satu dua empat lima \n"
     ]
    }
   ],
   "source": [
    "nomor_HP = input(\"Nomor HP anda :  \")\n",
    "nomor_angka = \"\"\n",
    "for isi in nomor_HP:\n",
    "    nomor_angka += angka.get(isi) + \" \"\n",
    "print(nomor_angka)    "
   ]
  },
  {
   "cell_type": "markdown",
   "id": "564be90c",
   "metadata": {},
   "source": [
    "## 5.19 Fungsi"
   ]
  },
  {
   "cell_type": "code",
   "execution_count": 67,
   "id": "f5456a86",
   "metadata": {},
   "outputs": [],
   "source": [
    "def full_name (first_name,last_name):\n",
    "    print (f\"Nama lengkapmu adalah {first_name} {last_name}\")"
   ]
  },
  {
   "cell_type": "code",
   "execution_count": 68,
   "id": "6f58cd0c",
   "metadata": {},
   "outputs": [
    {
     "name": "stdout",
     "output_type": "stream",
     "text": [
      "Nama depanmu adalah Ni Made\n",
      "Nama belakangmu adalah Sinta Lestari\n",
      "Nama lengkapmu adalah Ni Made Sinta Lestari\n"
     ]
    }
   ],
   "source": [
    "first_name = input(\"Nama depanmu adalah \")\n",
    "last_name = input(\"Nama belakangmu adalah \")\n",
    "full_name (first_name, last_name)"
   ]
  },
  {
   "cell_type": "markdown",
   "id": "ee13cf23",
   "metadata": {},
   "source": [
    "### 5.19.1 Tugas Fungsi pada Phyton"
   ]
  },
  {
   "cell_type": "code",
   "execution_count": 52,
   "id": "25fced01",
   "metadata": {},
   "outputs": [],
   "source": [
    "def waktu_sampai(jarak,kecepatan):\n",
    "    waktu = jarak/kecepatan\n",
    "    print(waktu)"
   ]
  },
  {
   "cell_type": "code",
   "execution_count": 53,
   "id": "5334a0ed",
   "metadata": {},
   "outputs": [],
   "source": [
    "def waktu_tempuh(jarak,kecepatan):\n",
    "    waktu = jarak/kecepatan\n",
    "    return waktu"
   ]
  },
  {
   "cell_type": "code",
   "execution_count": 54,
   "id": "cc6f5322",
   "metadata": {},
   "outputs": [
    {
     "name": "stdout",
     "output_type": "stream",
     "text": [
      "1.4\n"
     ]
    }
   ],
   "source": [
    "waktu_sampai(70,50)"
   ]
  },
  {
   "cell_type": "code",
   "execution_count": 55,
   "id": "aafd0f74",
   "metadata": {},
   "outputs": [
    {
     "data": {
      "text/plain": [
       "1.4"
      ]
     },
     "execution_count": 55,
     "metadata": {},
     "output_type": "execute_result"
    }
   ],
   "source": [
    "waktu_tempuh(70,50)"
   ]
  },
  {
   "cell_type": "code",
   "execution_count": 56,
   "id": "7f8406fd",
   "metadata": {},
   "outputs": [
    {
     "name": "stdout",
     "output_type": "stream",
     "text": [
      "1.4\n",
      "None\n"
     ]
    }
   ],
   "source": [
    "a = waktu_sampai(70,50)\n",
    "print(a)"
   ]
  },
  {
   "cell_type": "code",
   "execution_count": 57,
   "id": "68e86e54",
   "metadata": {},
   "outputs": [
    {
     "name": "stdout",
     "output_type": "stream",
     "text": [
      "1.4\n"
     ]
    }
   ],
   "source": [
    "b = waktu_tempuh(70,50)\n",
    "print(b)"
   ]
  }
 ],
 "metadata": {
  "kernelspec": {
   "display_name": "Python 3 (ipykernel)",
   "language": "python",
   "name": "python3"
  },
  "language_info": {
   "codemirror_mode": {
    "name": "ipython",
    "version": 3
   },
   "file_extension": ".py",
   "mimetype": "text/x-python",
   "name": "python",
   "nbconvert_exporter": "python",
   "pygments_lexer": "ipython3",
   "version": "3.9.7"
  }
 },
 "nbformat": 4,
 "nbformat_minor": 5
}
