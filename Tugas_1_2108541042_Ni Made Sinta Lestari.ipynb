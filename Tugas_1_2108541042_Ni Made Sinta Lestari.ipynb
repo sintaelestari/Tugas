{
 "cells": [
  {
   "cell_type": "markdown",
   "id": "08de9c75",
   "metadata": {},
   "source": [
    "# 5.1 Print"
   ]
  },
  {
   "cell_type": "code",
   "execution_count": 44,
   "id": "5313c489",
   "metadata": {},
   "outputs": [
    {
     "name": "stdout",
     "output_type": "stream",
     "text": [
      "Saat ini sedang berlangsung kelas Algoritma. \n"
     ]
    }
   ],
   "source": [
    "print('Saat ini sedang berlangsung kelas Algoritma. ')"
   ]
  },
  {
   "cell_type": "code",
   "execution_count": 5,
   "id": "d3fe0b86",
   "metadata": {},
   "outputs": [
    {
     "name": "stdout",
     "output_type": "stream",
     "text": [
      "Saat ini sedang berlangsung kelas Algoritma\n"
     ]
    }
   ],
   "source": [
    "print(\"Saat ini sedang berlangsung kelas Algoritma\")"
   ]
  },
  {
   "cell_type": "code",
   "execution_count": 6,
   "id": "65761e34",
   "metadata": {},
   "outputs": [
    {
     "name": "stdout",
     "output_type": "stream",
     "text": [
      "I don't know what are you talking about\n"
     ]
    }
   ],
   "source": [
    "print(\"I don't know what are you talking about\")"
   ]
  },
  {
   "cell_type": "code",
   "execution_count": 7,
   "id": "e485070d",
   "metadata": {},
   "outputs": [
    {
     "name": "stdout",
     "output_type": "stream",
     "text": [
      "She is such an \"AWESOME\"\n"
     ]
    }
   ],
   "source": [
    "print('She is such an \"AWESOME\"')"
   ]
  },
  {
   "cell_type": "code",
   "execution_count": 8,
   "id": "c89ab207",
   "metadata": {},
   "outputs": [
    {
     "name": "stdout",
     "output_type": "stream",
     "text": [
      "42\n",
      "30000\n",
      "1260000\n"
     ]
    }
   ],
   "source": [
    "jumlah_mahasiswa = 42\n",
    "jumlah_uang_di_dompet = 30000\n",
    "print(jumlah_mahasiswa)\n",
    "print(jumlah_uang_di_dompet)\n",
    "print(jumlah_mahasiswa*jumlah_uang_di_dompet)"
   ]
  },
  {
   "cell_type": "code",
   "execution_count": 9,
   "id": "10112cff",
   "metadata": {},
   "outputs": [
    {
     "name": "stdout",
     "output_type": "stream",
     "text": [
      "Sinta Lestari\n"
     ]
    }
   ],
   "source": [
    "nama_depan = 'Sinta'\n",
    "nama_tengah = ' '\n",
    "nama_belakang = \"Lestari\"\n",
    "print(nama_depan + nama_tengah + nama_belakang)"
   ]
  },
  {
   "cell_type": "markdown",
   "id": "ad908075",
   "metadata": {},
   "source": [
    "# 5.2 Input"
   ]
  },
  {
   "cell_type": "code",
   "execution_count": 10,
   "id": "00e0cb17",
   "metadata": {},
   "outputs": [
    {
     "name": "stdout",
     "output_type": "stream",
     "text": [
      "Siapakah nama anda? Sinta\n",
      "Apakah kegiatan anda sekarang, Sinta? mengerjakan tugas algoritma\n",
      "Semangat mengerjakan tugas algoritma nya yaaa, Sinta!\n"
     ]
    }
   ],
   "source": [
    "nama = input(\"Siapakah nama anda? \")\n",
    "kegiatan = input('Apakah kegiatan anda sekarang, ' + nama +\"? \")\n",
    "print(\"Semangat \"+ kegiatan +\" nya yaaa, \" + nama + \"!\")"
   ]
  },
  {
   "cell_type": "markdown",
   "id": "d93dfb4b",
   "metadata": {},
   "source": [
    "# 5.3 Tipe Data"
   ]
  },
  {
   "cell_type": "code",
   "execution_count": 11,
   "id": "0e3272cc",
   "metadata": {},
   "outputs": [
    {
     "name": "stdout",
     "output_type": "stream",
     "text": [
      "Berapakah jumlah uang di dompet anda? 150000\n",
      "Berapakah jumlah uang anda di Bank? 1750000\n",
      "Total uang anda adalah Rp 1900000\n"
     ]
    }
   ],
   "source": [
    "uang_di_dompet = input(\"Berapakah jumlah uang di dompet anda? \")\n",
    "uang_di_bank = input(\"Berapakah jumlah uang anda di Bank? \")\n",
    "total_uang = int(uang_di_dompet) + int(uang_di_bank)\n",
    "print(\"Total uang anda adalah Rp \"+ str(total_uang))"
   ]
  },
  {
   "cell_type": "code",
   "execution_count": 12,
   "id": "924e036b",
   "metadata": {},
   "outputs": [
    {
     "name": "stdout",
     "output_type": "stream",
     "text": [
      "Masukkan bilangan pertama: 3\n",
      "Masukkan bilangan kedua: 7\n",
      "Jumlah kedua bilangan adalah 10.0\n"
     ]
    }
   ],
   "source": [
    "bilangan_pertama = input(\"Masukkan bilangan pertama: \")\n",
    "bilangan_kedua = input(\"Masukkan bilangan kedua: \")\n",
    "jumlah = float(bilangan_pertama) + float(bilangan_kedua)\n",
    "print(\"Jumlah kedua bilangan adalah \" + str(jumlah))"
   ]
  },
  {
   "cell_type": "markdown",
   "id": "3a5afd43",
   "metadata": {},
   "source": [
    "# 5.4 Formatted String"
   ]
  },
  {
   "cell_type": "code",
   "execution_count": 13,
   "id": "57f1b85e",
   "metadata": {},
   "outputs": [
    {
     "name": "stdout",
     "output_type": "stream",
     "text": [
      "Taehyung adalah seorang penyanyi dari Big Hit Music.\n"
     ]
    }
   ],
   "source": [
    "nama = \"Taehyung\"\n",
    "pekerjaan = 'penyanyi'\n",
    "agensi = 'Big Hit Music'\n",
    "print(nama + ' adalah seorang ' + pekerjaan + ' dari ' + agensi +'.')"
   ]
  },
  {
   "cell_type": "code",
   "execution_count": 14,
   "id": "1b98ce67",
   "metadata": {},
   "outputs": [
    {
     "name": "stdout",
     "output_type": "stream",
     "text": [
      "Taehyung adalah seorang penyanyi dari Big Hit Music.\n"
     ]
    }
   ],
   "source": [
    "print(f'{nama} adalah seorang {pekerjaan} dari {agensi}.')"
   ]
  },
  {
   "cell_type": "markdown",
   "id": "d40d51ea",
   "metadata": {},
   "source": [
    "# 5.5 String Index"
   ]
  },
  {
   "cell_type": "code",
   "execution_count": 15,
   "id": "d2ca33a0",
   "metadata": {},
   "outputs": [],
   "source": [
    "kelas = 'Sekarang Kelas Algoritma'"
   ]
  },
  {
   "cell_type": "code",
   "execution_count": 16,
   "id": "c037375a",
   "metadata": {},
   "outputs": [
    {
     "name": "stdout",
     "output_type": "stream",
     "text": [
      "Sekarang\n"
     ]
    }
   ],
   "source": [
    "print(kelas[0:8])"
   ]
  },
  {
   "cell_type": "code",
   "execution_count": 17,
   "id": "8b883a38",
   "metadata": {},
   "outputs": [
    {
     "name": "stdout",
     "output_type": "stream",
     "text": [
      "Sekarang Kelas Algoritm\n"
     ]
    }
   ],
   "source": [
    "print(kelas[0:-1])"
   ]
  },
  {
   "cell_type": "code",
   "execution_count": 18,
   "id": "87544f0c",
   "metadata": {},
   "outputs": [
    {
     "name": "stdout",
     "output_type": "stream",
     "text": [
      "elas Algoritm\n"
     ]
    }
   ],
   "source": [
    "print(kelas[10:-1])"
   ]
  },
  {
   "cell_type": "code",
   "execution_count": 19,
   "id": "fc76072d",
   "metadata": {},
   "outputs": [
    {
     "name": "stdout",
     "output_type": "stream",
     "text": [
      "ka l gi\n"
     ]
    }
   ],
   "source": [
    "print(kelas[2:-1:3])"
   ]
  },
  {
   "cell_type": "code",
   "execution_count": 20,
   "id": "ad610f6a",
   "metadata": {},
   "outputs": [
    {
     "name": "stdout",
     "output_type": "stream",
     "text": [
      "Sekarang Kelas Algoritm\n"
     ]
    }
   ],
   "source": [
    "print(kelas[:-1])"
   ]
  },
  {
   "cell_type": "code",
   "execution_count": 21,
   "id": "ab674384",
   "metadata": {},
   "outputs": [
    {
     "name": "stdout",
     "output_type": "stream",
     "text": [
      "ekarang Kelas Algoritma\n"
     ]
    }
   ],
   "source": [
    "print(kelas[1:])"
   ]
  },
  {
   "cell_type": "code",
   "execution_count": 22,
   "id": "7bab5baf",
   "metadata": {},
   "outputs": [
    {
     "name": "stdout",
     "output_type": "stream",
     "text": [
      "Sekarang Kelas Algoritma\n"
     ]
    }
   ],
   "source": [
    "print(kelas[:])"
   ]
  },
  {
   "cell_type": "markdown",
   "id": "c3d5ec97",
   "metadata": {},
   "source": [
    "# 5.6 String Methods"
   ]
  },
  {
   "cell_type": "code",
   "execution_count": 23,
   "id": "cc72f559",
   "metadata": {},
   "outputs": [],
   "source": [
    "judul = 'Aku Pasti Gagal'"
   ]
  },
  {
   "cell_type": "code",
   "execution_count": 24,
   "id": "b12c9312",
   "metadata": {},
   "outputs": [
    {
     "name": "stdout",
     "output_type": "stream",
     "text": [
      "15\n"
     ]
    }
   ],
   "source": [
    "print(len(judul))"
   ]
  },
  {
   "cell_type": "code",
   "execution_count": 25,
   "id": "8c7921b4",
   "metadata": {},
   "outputs": [
    {
     "data": {
      "text/plain": [
       "'AKU PASTI GAGAL'"
      ]
     },
     "execution_count": 25,
     "metadata": {},
     "output_type": "execute_result"
    }
   ],
   "source": [
    "judul.upper()"
   ]
  },
  {
   "cell_type": "code",
   "execution_count": 26,
   "id": "482f70d4",
   "metadata": {},
   "outputs": [
    {
     "data": {
      "text/plain": [
       "'aku pasti gagal'"
      ]
     },
     "execution_count": 26,
     "metadata": {},
     "output_type": "execute_result"
    }
   ],
   "source": [
    "judul.lower()"
   ]
  },
  {
   "cell_type": "code",
   "execution_count": 27,
   "id": "27ab3c99",
   "metadata": {},
   "outputs": [
    {
     "data": {
      "text/plain": [
       "4"
      ]
     },
     "execution_count": 27,
     "metadata": {},
     "output_type": "execute_result"
    }
   ],
   "source": [
    "judul.find('Pasti')"
   ]
  },
  {
   "cell_type": "code",
   "execution_count": 28,
   "id": "4262a23a",
   "metadata": {},
   "outputs": [
    {
     "data": {
      "text/plain": [
       "'Aku Pasti Bisa'"
      ]
     },
     "execution_count": 28,
     "metadata": {},
     "output_type": "execute_result"
    }
   ],
   "source": [
    "judul.replace('Gagal', 'Bisa')"
   ]
  },
  {
   "cell_type": "code",
   "execution_count": 29,
   "id": "fbb30ab4",
   "metadata": {},
   "outputs": [
    {
     "name": "stdout",
     "output_type": "stream",
     "text": [
      "True\n"
     ]
    }
   ],
   "source": [
    "print('Aku' in judul)"
   ]
  },
  {
   "cell_type": "code",
   "execution_count": 30,
   "id": "0c33907c",
   "metadata": {},
   "outputs": [
    {
     "name": "stdout",
     "output_type": "stream",
     "text": [
      "False\n"
     ]
    }
   ],
   "source": [
    "print('aku' in judul)"
   ]
  },
  {
   "cell_type": "markdown",
   "id": "7b8a7a9e",
   "metadata": {},
   "source": [
    "# 5.7 Operasi Matematika"
   ]
  },
  {
   "cell_type": "code",
   "execution_count": 31,
   "id": "5b7469f4",
   "metadata": {},
   "outputs": [
    {
     "name": "stdout",
     "output_type": "stream",
     "text": [
      "9\n",
      "5\n",
      "14\n",
      "3.5\n",
      "3\n",
      "49\n",
      "1\n",
      "-1\n",
      "-3\n"
     ]
    }
   ],
   "source": [
    "print(7+2)\n",
    "print(7-2)\n",
    "print(7*2)\n",
    "print(7/2)\n",
    "print(7//2)\n",
    "print(7**2)\n",
    "x=3\n",
    "x=1\n",
    "print(x)\n",
    "x-=2\n",
    "print(x)\n",
    "x*=3\n",
    "print(x)"
   ]
  },
  {
   "cell_type": "markdown",
   "id": "6e5b9b0b",
   "metadata": {},
   "source": [
    "# 5.8 Operator Perbandingan"
   ]
  },
  {
   "cell_type": "code",
   "execution_count": 32,
   "id": "6d6a8865",
   "metadata": {},
   "outputs": [
    {
     "name": "stdout",
     "output_type": "stream",
     "text": [
      "True\n",
      "True\n",
      "True\n",
      "True\n",
      "True\n",
      "True\n"
     ]
    }
   ],
   "source": [
    "x = 7>4\n",
    "print(x)\n",
    "x = 4<7\n",
    "print(x)\n",
    "x = 7 >= 4\n",
    "print(x)\n",
    "x = 4 <= 7\n",
    "print(x)\n",
    "x = 7 == 7\n",
    "print(x)\n",
    "x = 7 != 8\n",
    "print(x)"
   ]
  },
  {
   "cell_type": "code",
   "execution_count": 33,
   "id": "11e8f842",
   "metadata": {},
   "outputs": [
    {
     "name": "stdout",
     "output_type": "stream",
     "text": [
      "True\n",
      "True\n",
      "True\n",
      "True\n",
      "False\n",
      "False\n"
     ]
    }
   ],
   "source": [
    "x = 7>4\n",
    "print(x)\n",
    "x = 4<7\n",
    "print(x)\n",
    "x = 7 >= 4\n",
    "print(x)\n",
    "x = 4 <= 7\n",
    "print(x)\n",
    "x = 7 == 8\n",
    "print(x)\n",
    "x = 7 != 7\n",
    "print(x)"
   ]
  },
  {
   "cell_type": "markdown",
   "id": "32fc612e",
   "metadata": {},
   "source": [
    "# 5.9 Operasi Logika"
   ]
  },
  {
   "cell_type": "code",
   "execution_count": 34,
   "id": "7c6753d4",
   "metadata": {},
   "outputs": [
    {
     "name": "stdout",
     "output_type": "stream",
     "text": [
      "True\n"
     ]
    }
   ],
   "source": [
    "buah_apel = 12\n",
    "buah_mangga = 18\n",
    "print(buah_apel > 10 and buah_mangga < 20)"
   ]
  },
  {
   "cell_type": "code",
   "execution_count": 35,
   "id": "6bc38286",
   "metadata": {},
   "outputs": [
    {
     "name": "stdout",
     "output_type": "stream",
     "text": [
      "True\n"
     ]
    }
   ],
   "source": [
    "print(buah_apel < 10 or buah_mangga < 20)"
   ]
  },
  {
   "cell_type": "code",
   "execution_count": 36,
   "id": "d6f778e0",
   "metadata": {},
   "outputs": [
    {
     "name": "stdout",
     "output_type": "stream",
     "text": [
      "False\n"
     ]
    }
   ],
   "source": [
    "print(buah_apel < 10 or buah_mangga > 20)"
   ]
  },
  {
   "cell_type": "code",
   "execution_count": 37,
   "id": "78ecc692",
   "metadata": {},
   "outputs": [
    {
     "name": "stdout",
     "output_type": "stream",
     "text": [
      "True\n"
     ]
    }
   ],
   "source": [
    "print(not (buah_apel < 10 or buah_mangga > 20))"
   ]
  },
  {
   "cell_type": "markdown",
   "id": "61b0eb3b",
   "metadata": {},
   "source": [
    "# 5.10 Operasi if"
   ]
  },
  {
   "cell_type": "code",
   "execution_count": 39,
   "id": "50db61a2",
   "metadata": {},
   "outputs": [
    {
     "name": "stdout",
     "output_type": "stream",
     "text": [
      "Nilaimu adalah 54\n",
      "Kamu mendapatkan dengan nilai D\n",
      "Silahkan ulang lagi tahun depan\n"
     ]
    }
   ],
   "source": [
    "nilai = float(input(\"Nilaimu adalah \"))\n",
    "if nilai >= 80:\n",
    "    print(\"Kamu mendapatkan nilai A\")\n",
    "    print(\"Bagus sekali, selamat ya!\")\n",
    "if nilai < 80 and nilai >= 70:\n",
    "    print(\"Kamu mendapatkan nilai B\")\n",
    "    print(\"Berusahalah untuk meningkatkan prestasimu!\")\n",
    "if nilai >= 60 and nilai < 70:\n",
    "    print(\"Kamu mendapatkan nilai C\")\n",
    "    print(\"Lain kali harus bisa lebih baik\")\n",
    "if nilai >= 50 and nilai < 60:\n",
    "    print(\"Kamu mendapatkan dengan nilai D\")\n",
    "    print(\"Silahkan ulang lagi tahun depan\")\n",
    "if nilai < 50:\n",
    "    print(\"Kamu mendapatkan nilai E\")\n",
    "    print(\"Sampai jumpa tahun depan\")"
   ]
  },
  {
   "cell_type": "code",
   "execution_count": 40,
   "id": "b2e6bbd5",
   "metadata": {},
   "outputs": [
    {
     "name": "stdout",
     "output_type": "stream",
     "text": [
      "Berapakah tinggi badanmu? 152\n",
      "Tingginya dalam cm atau inci? cm\n",
      "Tinggi badanmu adalah 59.842552000000005 inci\n"
     ]
    }
   ],
   "source": [
    "tinggi = float(input(\"Berapakah tinggi badanmu? \"))\n",
    "cm_atau_inci = input(\"Tingginya dalam cm atau inci? \")\n",
    "\n",
    "if cm_atau_inci.upper() == 'CM':\n",
    "    tinggi = tinggi*0.393701\n",
    "    print(\"Tinggi badanmu adalah \" + str(tinggi) + \" inci\")\n",
    "elif cm_atau_inci.upper() == 'INCI':\n",
    "    tinggi = tinggi/0.393701\n",
    "    print(f\"Tinggi badanmu adalah {tinggi} cm\")"
   ]
  },
  {
   "cell_type": "markdown",
   "id": "331478c1",
   "metadata": {},
   "source": [
    "# 5.11 While loop"
   ]
  },
  {
   "cell_type": "code",
   "execution_count": 41,
   "id": "0994c42b",
   "metadata": {},
   "outputs": [
    {
     "name": "stdout",
     "output_type": "stream",
     "text": [
      "Angka 0 masih di bawah 7\n",
      "Angka 1 masih di bawah 7\n",
      "Angka 2 masih di bawah 7\n",
      "Angka 3 masih di bawah 7\n",
      "Angka 4 masih di bawah 7\n",
      "Angka 5 masih di bawah 7\n",
      "Angka 6 masih di bawah 7\n"
     ]
    }
   ],
   "source": [
    "a = 0\n",
    "while a < 7:\n",
    "    print(\"Angka \" + str(a)+\" masih di bawah 7\")\n",
    "    a += 1"
   ]
  },
  {
   "cell_type": "code",
   "execution_count": 42,
   "id": "849d8fe0",
   "metadata": {},
   "outputs": [
    {
     "name": "stdout",
     "output_type": "stream",
     "text": [
      "\n",
      "*\n",
      "**\n",
      "***\n",
      "****\n",
      "*****\n",
      "******\n"
     ]
    }
   ],
   "source": [
    "a = 0\n",
    "while a < 7:\n",
    "    print(a * '*')\n",
    "    a += 1"
   ]
  },
  {
   "cell_type": "code",
   "execution_count": null,
   "id": "075a1ccc",
   "metadata": {},
   "outputs": [],
   "source": []
  }
 ],
 "metadata": {
  "kernelspec": {
   "display_name": "Python 3 (ipykernel)",
   "language": "python",
   "name": "python3"
  },
  "language_info": {
   "codemirror_mode": {
    "name": "ipython",
    "version": 3
   },
   "file_extension": ".py",
   "mimetype": "text/x-python",
   "name": "python",
   "nbconvert_exporter": "python",
   "pygments_lexer": "ipython3",
   "version": "3.9.7"
  }
 },
 "nbformat": 4,
 "nbformat_minor": 5
}
